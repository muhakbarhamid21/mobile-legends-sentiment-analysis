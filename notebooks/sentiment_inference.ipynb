{
 "cells": [
  {
   "cell_type": "markdown",
   "metadata": {},
   "source": [
    "# Inference Notebook for Mobile Legends Sentiment Analysis\n",
    "\n",
    "This notebook performs inference on new reviews using the saved LSTM model (BEST MODEL). The model outputs a categorical sentiment label (e.g., \"negative\", \"neutral\", or \"positive\"). Make sure that the model and tokenizer have been saved during training."
   ]
  },
  {
   "cell_type": "code",
   "execution_count": 1,
   "metadata": {},
   "outputs": [
    {
     "name": "stderr",
     "output_type": "stream",
     "text": [
      "2025-03-18 13:23:20.640459: I tensorflow/core/platform/cpu_feature_guard.cc:210] This TensorFlow binary is optimized to use available CPU instructions in performance-critical operations.\n",
      "To enable the following instructions: AVX2 FMA, in other operations, rebuild TensorFlow with the appropriate compiler flags.\n"
     ]
    }
   ],
   "source": [
    "import tensorflow as tf\n",
    "import joblib\n",
    "import numpy as np\n",
    "import pandas as pd\n",
    "from IPython.display import display\n",
    "from tensorflow.keras.preprocessing.sequence import pad_sequences"
   ]
  },
  {
   "cell_type": "code",
   "execution_count": 2,
   "metadata": {},
   "outputs": [],
   "source": [
    "pd.set_option('display.max_colwidth', None)\n",
    "pd.set_option('display.width', None)"
   ]
  },
  {
   "cell_type": "code",
   "execution_count": 3,
   "metadata": {},
   "outputs": [],
   "source": [
    "MAX_WORDS = 20000\n",
    "MAX_LENGTH = 100"
   ]
  },
  {
   "cell_type": "code",
   "execution_count": 4,
   "metadata": {},
   "outputs": [
    {
     "name": "stderr",
     "output_type": "stream",
     "text": [
      "WARNING:absl:Compiled the loaded model, but the compiled metrics have yet to be built. `model.compile_metrics` will be empty until you train or evaluate the model.\n"
     ]
    }
   ],
   "source": [
    "model_lstm = tf.keras.models.load_model(\"../models/lstm/best_lstm_model.h5\")\n",
    "tokenizer = joblib.load(\"../models/tokenizer/tokenizer.pkl\")"
   ]
  },
  {
   "cell_type": "code",
   "execution_count": 5,
   "metadata": {},
   "outputs": [],
   "source": [
    "label_map = {0: \"Negative\", 1: \"Neutral\", 2: \"Positive\"}"
   ]
  },
  {
   "cell_type": "code",
   "execution_count": 6,
   "metadata": {},
   "outputs": [],
   "source": [
    "def predict_sentiment(text):\n",
    "    sequence = tokenizer.texts_to_sequences([text])\n",
    "    padded_seq = pad_sequences(sequence, maxlen=MAX_LENGTH)\n",
    "    prediction = model_lstm.predict(padded_seq)\n",
    "    predicted_class = np.argmax(prediction, axis=1)[0]\n",
    "    return label_map[predicted_class]\n"
   ]
  },
  {
   "cell_type": "code",
   "execution_count": 7,
   "metadata": {},
   "outputs": [],
   "source": [
    "sample_texts = [\n",
    "    \"Game ini sangat menyenangkan dan membuat saya betah bermain selama berjam-jam.\",\n",
    "    \"Fitur-fitur terbaru sangat inovatif, menjadikan pengalaman bermain semakin asyik.\",\n",
    "    \"Grafis yang memukau dan gameplay yang halus, saya sangat puas dengan game ini.\",\n",
    "    \"Update terbaru benar-benar meningkatkan kualitas permainan, luar biasa!\",\n",
    "    \"Pemainnya ramah dan membantu, membuat pengalaman bermain jadi lebih positif.\",\n",
    "    \"Game ini biasa saja, tidak terlalu menarik namun juga tidak mengecewakan.\",\n",
    "    \"Saya merasa netral, ada kelebihan dan kekurangannya masing-masing.\",\n",
    "    \"Pertandingan hari ini cukup standar, tidak ada yang luar biasa.\",\n",
    "    \"Sistem permainan cukup stabil, namun tidak ada inovasi baru.\",\n",
    "    \"Pengalaman bermainnya lumayan, tidak bikin bahagia atau kecewa.\",\n",
    "    \"Pertandingan sangat mengecewakan, saya tidak menikmati permainannya.\",\n",
    "    \"Kontrol game yang tidak responsif membuat pengalaman bermain saya buruk.\",\n",
    "    \"Fitur-fitur dalam game ini tidak sesuai dengan ekspektasi saya.\",\n",
    "    \"Server sering down, membuat saya frustrasi dan tidak ingin bermain lagi.\",\n",
    "    \"Pengalaman bermain yang buruk karena terlalu banyak bug dan error.\",\n",
    "    \"Game ini sampah, bikin bete dan benar-benar menyebalkan!\",\n",
    "    \"Permainan ini brengsek, kontrolnya kacau dan pemainnya goblok!\",\n",
    "    \"Sistem game amat sial, setiap pertandingan selalu bikin marah!\",\n",
    "    \"Game ini tolol, update-nya jelek dan bikin frustasi parah!\",\n",
    "    \"Layanan customer supportnya amat payah, gak ada gunanya sama sekali!\",\n",
    "    \"Meski grafisnya keren, tapi sistem kontrolnya bikin kesel.\",\n",
    "    \"Update terbaru menjanjikan, namun bug yang ada masih mengganggu.\",\n",
    "    \"Gameplay asyik tapi server selalu ngaco, membuat pengalaman jadi kurang maksimal.\",\n",
    "    \"Fitur baru menarik, tetapi kualitas support game masih perlu diperbaiki.\",\n",
    "    \"Ada momen yang menyenangkan dan juga momen yang sangat mengecewakan dalam game ini.\"\n",
    "]"
   ]
  },
  {
   "cell_type": "code",
   "execution_count": 8,
   "metadata": {},
   "outputs": [
    {
     "name": "stdout",
     "output_type": "stream",
     "text": [
      "\u001b[1m1/1\u001b[0m \u001b[32m━━━━━━━━━━━━━━━━━━━━\u001b[0m\u001b[37m\u001b[0m \u001b[1m1s\u001b[0m 741ms/step\n",
      "\u001b[1m1/1\u001b[0m \u001b[32m━━━━━━━━━━━━━━━━━━━━\u001b[0m\u001b[37m\u001b[0m \u001b[1m0s\u001b[0m 50ms/step\n",
      "\u001b[1m1/1\u001b[0m \u001b[32m━━━━━━━━━━━━━━━━━━━━\u001b[0m\u001b[37m\u001b[0m \u001b[1m0s\u001b[0m 48ms/step\n",
      "\u001b[1m1/1\u001b[0m \u001b[32m━━━━━━━━━━━━━━━━━━━━\u001b[0m\u001b[37m\u001b[0m \u001b[1m0s\u001b[0m 48ms/step\n",
      "\u001b[1m1/1\u001b[0m \u001b[32m━━━━━━━━━━━━━━━━━━━━\u001b[0m\u001b[37m\u001b[0m \u001b[1m0s\u001b[0m 48ms/step\n",
      "\u001b[1m1/1\u001b[0m \u001b[32m━━━━━━━━━━━━━━━━━━━━\u001b[0m\u001b[37m\u001b[0m \u001b[1m0s\u001b[0m 48ms/step\n",
      "\u001b[1m1/1\u001b[0m \u001b[32m━━━━━━━━━━━━━━━━━━━━\u001b[0m\u001b[37m\u001b[0m \u001b[1m0s\u001b[0m 48ms/step\n",
      "\u001b[1m1/1\u001b[0m \u001b[32m━━━━━━━━━━━━━━━━━━━━\u001b[0m\u001b[37m\u001b[0m \u001b[1m0s\u001b[0m 49ms/step\n",
      "\u001b[1m1/1\u001b[0m \u001b[32m━━━━━━━━━━━━━━━━━━━━\u001b[0m\u001b[37m\u001b[0m \u001b[1m0s\u001b[0m 49ms/step\n",
      "\u001b[1m1/1\u001b[0m \u001b[32m━━━━━━━━━━━━━━━━━━━━\u001b[0m\u001b[37m\u001b[0m \u001b[1m0s\u001b[0m 49ms/step\n",
      "\u001b[1m1/1\u001b[0m \u001b[32m━━━━━━━━━━━━━━━━━━━━\u001b[0m\u001b[37m\u001b[0m \u001b[1m0s\u001b[0m 60ms/step\n",
      "\u001b[1m1/1\u001b[0m \u001b[32m━━━━━━━━━━━━━━━━━━━━\u001b[0m\u001b[37m\u001b[0m \u001b[1m0s\u001b[0m 49ms/step\n",
      "\u001b[1m1/1\u001b[0m \u001b[32m━━━━━━━━━━━━━━━━━━━━\u001b[0m\u001b[37m\u001b[0m \u001b[1m0s\u001b[0m 48ms/step\n",
      "\u001b[1m1/1\u001b[0m \u001b[32m━━━━━━━━━━━━━━━━━━━━\u001b[0m\u001b[37m\u001b[0m \u001b[1m0s\u001b[0m 50ms/step\n",
      "\u001b[1m1/1\u001b[0m \u001b[32m━━━━━━━━━━━━━━━━━━━━\u001b[0m\u001b[37m\u001b[0m \u001b[1m0s\u001b[0m 63ms/step\n",
      "\u001b[1m1/1\u001b[0m \u001b[32m━━━━━━━━━━━━━━━━━━━━\u001b[0m\u001b[37m\u001b[0m \u001b[1m0s\u001b[0m 52ms/step\n",
      "\u001b[1m1/1\u001b[0m \u001b[32m━━━━━━━━━━━━━━━━━━━━\u001b[0m\u001b[37m\u001b[0m \u001b[1m0s\u001b[0m 49ms/step\n",
      "\u001b[1m1/1\u001b[0m \u001b[32m━━━━━━━━━━━━━━━━━━━━\u001b[0m\u001b[37m\u001b[0m \u001b[1m0s\u001b[0m 48ms/step\n",
      "\u001b[1m1/1\u001b[0m \u001b[32m━━━━━━━━━━━━━━━━━━━━\u001b[0m\u001b[37m\u001b[0m \u001b[1m0s\u001b[0m 50ms/step\n",
      "\u001b[1m1/1\u001b[0m \u001b[32m━━━━━━━━━━━━━━━━━━━━\u001b[0m\u001b[37m\u001b[0m \u001b[1m0s\u001b[0m 60ms/step\n",
      "\u001b[1m1/1\u001b[0m \u001b[32m━━━━━━━━━━━━━━━━━━━━\u001b[0m\u001b[37m\u001b[0m \u001b[1m0s\u001b[0m 54ms/step\n",
      "\u001b[1m1/1\u001b[0m \u001b[32m━━━━━━━━━━━━━━━━━━━━\u001b[0m\u001b[37m\u001b[0m \u001b[1m0s\u001b[0m 53ms/step\n",
      "\u001b[1m1/1\u001b[0m \u001b[32m━━━━━━━━━━━━━━━━━━━━\u001b[0m\u001b[37m\u001b[0m \u001b[1m0s\u001b[0m 52ms/step\n",
      "\u001b[1m1/1\u001b[0m \u001b[32m━━━━━━━━━━━━━━━━━━━━\u001b[0m\u001b[37m\u001b[0m \u001b[1m0s\u001b[0m 49ms/step\n",
      "\u001b[1m1/1\u001b[0m \u001b[32m━━━━━━━━━━━━━━━━━━━━\u001b[0m\u001b[37m\u001b[0m \u001b[1m0s\u001b[0m 48ms/step\n"
     ]
    }
   ],
   "source": [
    "prediction = [predict_sentiment(teks) for teks in sample_texts]"
   ]
  },
  {
   "cell_type": "code",
   "execution_count": 9,
   "metadata": {},
   "outputs": [],
   "source": [
    "df_result = pd.DataFrame({\n",
    "    \"Text\": sample_texts,\n",
    "    \"Sentiment Prediction\": prediction\n",
    "})"
   ]
  },
  {
   "cell_type": "code",
   "execution_count": 10,
   "metadata": {},
   "outputs": [],
   "source": [
    "def color_sentiment(val):\n",
    "    if val == \"Positive\":\n",
    "        return 'background-color: #d4edda; color: #155724;'\n",
    "    elif val == \"Negative\":\n",
    "        return 'background-color: #f8d7da; color: #721c24;'\n",
    "    elif val == \"Neutral\":\n",
    "        return 'background-color: #fff3cd; color: #856404;'\n",
    "    else:\n",
    "        return ''"
   ]
  },
  {
   "cell_type": "code",
   "execution_count": 11,
   "metadata": {},
   "outputs": [
    {
     "data": {
      "text/html": [
       "<style type=\"text/css\">\n",
       "#T_766ab th {\n",
       "  text-align: center;\n",
       "}\n",
       "#T_766ab_row0_col0, #T_766ab_row1_col0, #T_766ab_row2_col0, #T_766ab_row3_col0, #T_766ab_row4_col0, #T_766ab_row5_col0, #T_766ab_row6_col0, #T_766ab_row7_col0, #T_766ab_row8_col0, #T_766ab_row9_col0, #T_766ab_row10_col0, #T_766ab_row11_col0, #T_766ab_row12_col0, #T_766ab_row13_col0, #T_766ab_row14_col0, #T_766ab_row15_col0, #T_766ab_row16_col0, #T_766ab_row17_col0, #T_766ab_row18_col0, #T_766ab_row19_col0, #T_766ab_row20_col0, #T_766ab_row21_col0, #T_766ab_row22_col0, #T_766ab_row23_col0, #T_766ab_row24_col0 {\n",
       "  white-space: pre-wrap;\n",
       "  text-align: left;\n",
       "  padding: 10px;\n",
       "}\n",
       "#T_766ab_row0_col1, #T_766ab_row1_col1, #T_766ab_row2_col1, #T_766ab_row4_col1, #T_766ab_row5_col1, #T_766ab_row6_col1, #T_766ab_row9_col1, #T_766ab_row10_col1, #T_766ab_row12_col1, #T_766ab_row13_col1, #T_766ab_row19_col1, #T_766ab_row21_col1, #T_766ab_row23_col1, #T_766ab_row24_col1 {\n",
       "  background-color: #d4edda;\n",
       "  color: #155724;\n",
       "  white-space: pre-wrap;\n",
       "  text-align: center;\n",
       "  padding: 10px;\n",
       "}\n",
       "#T_766ab_row3_col1, #T_766ab_row7_col1, #T_766ab_row8_col1, #T_766ab_row11_col1, #T_766ab_row16_col1, #T_766ab_row22_col1 {\n",
       "  background-color: #fff3cd;\n",
       "  color: #856404;\n",
       "  white-space: pre-wrap;\n",
       "  text-align: center;\n",
       "  padding: 10px;\n",
       "}\n",
       "#T_766ab_row14_col1, #T_766ab_row15_col1, #T_766ab_row17_col1, #T_766ab_row18_col1, #T_766ab_row20_col1 {\n",
       "  background-color: #f8d7da;\n",
       "  color: #721c24;\n",
       "  white-space: pre-wrap;\n",
       "  text-align: center;\n",
       "  padding: 10px;\n",
       "}\n",
       "</style>\n",
       "<table id=\"T_766ab\">\n",
       "  <thead>\n",
       "    <tr>\n",
       "      <th class=\"blank level0\" >&nbsp;</th>\n",
       "      <th id=\"T_766ab_level0_col0\" class=\"col_heading level0 col0\" >Text</th>\n",
       "      <th id=\"T_766ab_level0_col1\" class=\"col_heading level0 col1\" >Sentiment Prediction</th>\n",
       "    </tr>\n",
       "  </thead>\n",
       "  <tbody>\n",
       "    <tr>\n",
       "      <th id=\"T_766ab_level0_row0\" class=\"row_heading level0 row0\" >0</th>\n",
       "      <td id=\"T_766ab_row0_col0\" class=\"data row0 col0\" >Game ini sangat menyenangkan dan membuat saya betah bermain selama berjam-jam.</td>\n",
       "      <td id=\"T_766ab_row0_col1\" class=\"data row0 col1\" >Positive</td>\n",
       "    </tr>\n",
       "    <tr>\n",
       "      <th id=\"T_766ab_level0_row1\" class=\"row_heading level0 row1\" >1</th>\n",
       "      <td id=\"T_766ab_row1_col0\" class=\"data row1 col0\" >Fitur-fitur terbaru sangat inovatif, menjadikan pengalaman bermain semakin asyik.</td>\n",
       "      <td id=\"T_766ab_row1_col1\" class=\"data row1 col1\" >Positive</td>\n",
       "    </tr>\n",
       "    <tr>\n",
       "      <th id=\"T_766ab_level0_row2\" class=\"row_heading level0 row2\" >2</th>\n",
       "      <td id=\"T_766ab_row2_col0\" class=\"data row2 col0\" >Grafis yang memukau dan gameplay yang halus, saya sangat puas dengan game ini.</td>\n",
       "      <td id=\"T_766ab_row2_col1\" class=\"data row2 col1\" >Positive</td>\n",
       "    </tr>\n",
       "    <tr>\n",
       "      <th id=\"T_766ab_level0_row3\" class=\"row_heading level0 row3\" >3</th>\n",
       "      <td id=\"T_766ab_row3_col0\" class=\"data row3 col0\" >Update terbaru benar-benar meningkatkan kualitas permainan, luar biasa!</td>\n",
       "      <td id=\"T_766ab_row3_col1\" class=\"data row3 col1\" >Neutral</td>\n",
       "    </tr>\n",
       "    <tr>\n",
       "      <th id=\"T_766ab_level0_row4\" class=\"row_heading level0 row4\" >4</th>\n",
       "      <td id=\"T_766ab_row4_col0\" class=\"data row4 col0\" >Pemainnya ramah dan membantu, membuat pengalaman bermain jadi lebih positif.</td>\n",
       "      <td id=\"T_766ab_row4_col1\" class=\"data row4 col1\" >Positive</td>\n",
       "    </tr>\n",
       "    <tr>\n",
       "      <th id=\"T_766ab_level0_row5\" class=\"row_heading level0 row5\" >5</th>\n",
       "      <td id=\"T_766ab_row5_col0\" class=\"data row5 col0\" >Game ini biasa saja, tidak terlalu menarik namun juga tidak mengecewakan.</td>\n",
       "      <td id=\"T_766ab_row5_col1\" class=\"data row5 col1\" >Positive</td>\n",
       "    </tr>\n",
       "    <tr>\n",
       "      <th id=\"T_766ab_level0_row6\" class=\"row_heading level0 row6\" >6</th>\n",
       "      <td id=\"T_766ab_row6_col0\" class=\"data row6 col0\" >Saya merasa netral, ada kelebihan dan kekurangannya masing-masing.</td>\n",
       "      <td id=\"T_766ab_row6_col1\" class=\"data row6 col1\" >Positive</td>\n",
       "    </tr>\n",
       "    <tr>\n",
       "      <th id=\"T_766ab_level0_row7\" class=\"row_heading level0 row7\" >7</th>\n",
       "      <td id=\"T_766ab_row7_col0\" class=\"data row7 col0\" >Pertandingan hari ini cukup standar, tidak ada yang luar biasa.</td>\n",
       "      <td id=\"T_766ab_row7_col1\" class=\"data row7 col1\" >Neutral</td>\n",
       "    </tr>\n",
       "    <tr>\n",
       "      <th id=\"T_766ab_level0_row8\" class=\"row_heading level0 row8\" >8</th>\n",
       "      <td id=\"T_766ab_row8_col0\" class=\"data row8 col0\" >Sistem permainan cukup stabil, namun tidak ada inovasi baru.</td>\n",
       "      <td id=\"T_766ab_row8_col1\" class=\"data row8 col1\" >Neutral</td>\n",
       "    </tr>\n",
       "    <tr>\n",
       "      <th id=\"T_766ab_level0_row9\" class=\"row_heading level0 row9\" >9</th>\n",
       "      <td id=\"T_766ab_row9_col0\" class=\"data row9 col0\" >Pengalaman bermainnya lumayan, tidak bikin bahagia atau kecewa.</td>\n",
       "      <td id=\"T_766ab_row9_col1\" class=\"data row9 col1\" >Positive</td>\n",
       "    </tr>\n",
       "    <tr>\n",
       "      <th id=\"T_766ab_level0_row10\" class=\"row_heading level0 row10\" >10</th>\n",
       "      <td id=\"T_766ab_row10_col0\" class=\"data row10 col0\" >Pertandingan sangat mengecewakan, saya tidak menikmati permainannya.</td>\n",
       "      <td id=\"T_766ab_row10_col1\" class=\"data row10 col1\" >Positive</td>\n",
       "    </tr>\n",
       "    <tr>\n",
       "      <th id=\"T_766ab_level0_row11\" class=\"row_heading level0 row11\" >11</th>\n",
       "      <td id=\"T_766ab_row11_col0\" class=\"data row11 col0\" >Kontrol game yang tidak responsif membuat pengalaman bermain saya buruk.</td>\n",
       "      <td id=\"T_766ab_row11_col1\" class=\"data row11 col1\" >Neutral</td>\n",
       "    </tr>\n",
       "    <tr>\n",
       "      <th id=\"T_766ab_level0_row12\" class=\"row_heading level0 row12\" >12</th>\n",
       "      <td id=\"T_766ab_row12_col0\" class=\"data row12 col0\" >Fitur-fitur dalam game ini tidak sesuai dengan ekspektasi saya.</td>\n",
       "      <td id=\"T_766ab_row12_col1\" class=\"data row12 col1\" >Positive</td>\n",
       "    </tr>\n",
       "    <tr>\n",
       "      <th id=\"T_766ab_level0_row13\" class=\"row_heading level0 row13\" >13</th>\n",
       "      <td id=\"T_766ab_row13_col0\" class=\"data row13 col0\" >Server sering down, membuat saya frustrasi dan tidak ingin bermain lagi.</td>\n",
       "      <td id=\"T_766ab_row13_col1\" class=\"data row13 col1\" >Positive</td>\n",
       "    </tr>\n",
       "    <tr>\n",
       "      <th id=\"T_766ab_level0_row14\" class=\"row_heading level0 row14\" >14</th>\n",
       "      <td id=\"T_766ab_row14_col0\" class=\"data row14 col0\" >Pengalaman bermain yang buruk karena terlalu banyak bug dan error.</td>\n",
       "      <td id=\"T_766ab_row14_col1\" class=\"data row14 col1\" >Negative</td>\n",
       "    </tr>\n",
       "    <tr>\n",
       "      <th id=\"T_766ab_level0_row15\" class=\"row_heading level0 row15\" >15</th>\n",
       "      <td id=\"T_766ab_row15_col0\" class=\"data row15 col0\" >Game ini sampah, bikin bete dan benar-benar menyebalkan!</td>\n",
       "      <td id=\"T_766ab_row15_col1\" class=\"data row15 col1\" >Negative</td>\n",
       "    </tr>\n",
       "    <tr>\n",
       "      <th id=\"T_766ab_level0_row16\" class=\"row_heading level0 row16\" >16</th>\n",
       "      <td id=\"T_766ab_row16_col0\" class=\"data row16 col0\" >Permainan ini brengsek, kontrolnya kacau dan pemainnya goblok!</td>\n",
       "      <td id=\"T_766ab_row16_col1\" class=\"data row16 col1\" >Neutral</td>\n",
       "    </tr>\n",
       "    <tr>\n",
       "      <th id=\"T_766ab_level0_row17\" class=\"row_heading level0 row17\" >17</th>\n",
       "      <td id=\"T_766ab_row17_col0\" class=\"data row17 col0\" >Sistem game amat sial, setiap pertandingan selalu bikin marah!</td>\n",
       "      <td id=\"T_766ab_row17_col1\" class=\"data row17 col1\" >Negative</td>\n",
       "    </tr>\n",
       "    <tr>\n",
       "      <th id=\"T_766ab_level0_row18\" class=\"row_heading level0 row18\" >18</th>\n",
       "      <td id=\"T_766ab_row18_col0\" class=\"data row18 col0\" >Game ini tolol, update-nya jelek dan bikin frustasi parah!</td>\n",
       "      <td id=\"T_766ab_row18_col1\" class=\"data row18 col1\" >Negative</td>\n",
       "    </tr>\n",
       "    <tr>\n",
       "      <th id=\"T_766ab_level0_row19\" class=\"row_heading level0 row19\" >19</th>\n",
       "      <td id=\"T_766ab_row19_col0\" class=\"data row19 col0\" >Layanan customer supportnya amat payah, gak ada gunanya sama sekali!</td>\n",
       "      <td id=\"T_766ab_row19_col1\" class=\"data row19 col1\" >Positive</td>\n",
       "    </tr>\n",
       "    <tr>\n",
       "      <th id=\"T_766ab_level0_row20\" class=\"row_heading level0 row20\" >20</th>\n",
       "      <td id=\"T_766ab_row20_col0\" class=\"data row20 col0\" >Meski grafisnya keren, tapi sistem kontrolnya bikin kesel.</td>\n",
       "      <td id=\"T_766ab_row20_col1\" class=\"data row20 col1\" >Negative</td>\n",
       "    </tr>\n",
       "    <tr>\n",
       "      <th id=\"T_766ab_level0_row21\" class=\"row_heading level0 row21\" >21</th>\n",
       "      <td id=\"T_766ab_row21_col0\" class=\"data row21 col0\" >Update terbaru menjanjikan, namun bug yang ada masih mengganggu.</td>\n",
       "      <td id=\"T_766ab_row21_col1\" class=\"data row21 col1\" >Positive</td>\n",
       "    </tr>\n",
       "    <tr>\n",
       "      <th id=\"T_766ab_level0_row22\" class=\"row_heading level0 row22\" >22</th>\n",
       "      <td id=\"T_766ab_row22_col0\" class=\"data row22 col0\" >Gameplay asyik tapi server selalu ngaco, membuat pengalaman jadi kurang maksimal.</td>\n",
       "      <td id=\"T_766ab_row22_col1\" class=\"data row22 col1\" >Neutral</td>\n",
       "    </tr>\n",
       "    <tr>\n",
       "      <th id=\"T_766ab_level0_row23\" class=\"row_heading level0 row23\" >23</th>\n",
       "      <td id=\"T_766ab_row23_col0\" class=\"data row23 col0\" >Fitur baru menarik, tetapi kualitas support game masih perlu diperbaiki.</td>\n",
       "      <td id=\"T_766ab_row23_col1\" class=\"data row23 col1\" >Positive</td>\n",
       "    </tr>\n",
       "    <tr>\n",
       "      <th id=\"T_766ab_level0_row24\" class=\"row_heading level0 row24\" >24</th>\n",
       "      <td id=\"T_766ab_row24_col0\" class=\"data row24 col0\" >Ada momen yang menyenangkan dan juga momen yang sangat mengecewakan dalam game ini.</td>\n",
       "      <td id=\"T_766ab_row24_col1\" class=\"data row24 col1\" >Positive</td>\n",
       "    </tr>\n",
       "  </tbody>\n",
       "</table>\n"
      ],
      "text/plain": [
       "<pandas.io.formats.style.Styler at 0x178d4e2d0>"
      ]
     },
     "metadata": {},
     "output_type": "display_data"
    }
   ],
   "source": [
    "styled_df = (\n",
    "    df_result\n",
    "    .style\n",
    "    .set_table_styles([\n",
    "        {'selector': 'th', 'props': [('text-align', 'center')]}\n",
    "    ])\n",
    "    .map(color_sentiment, subset=['Sentiment Prediction'])\n",
    "    .set_properties(subset=['Text'], **{\n",
    "        'white-space': 'pre-wrap',\n",
    "        'text-align': 'left',\n",
    "        'padding': '10px'\n",
    "    })\n",
    "    .set_properties(subset=['Sentiment Prediction'], **{\n",
    "        'white-space': 'pre-wrap',\n",
    "        'text-align': 'center',\n",
    "        'padding': '10px'\n",
    "    })\n",
    ")\n",
    "\n",
    "display(styled_df)"
   ]
  }
 ],
 "metadata": {
  "kernelspec": {
   "display_name": "Python 3",
   "language": "python",
   "name": "python3"
  },
  "language_info": {
   "codemirror_mode": {
    "name": "ipython",
    "version": 3
   },
   "file_extension": ".py",
   "mimetype": "text/x-python",
   "name": "python",
   "nbconvert_exporter": "python",
   "pygments_lexer": "ipython3",
   "version": "3.11.9"
  }
 },
 "nbformat": 4,
 "nbformat_minor": 2
}
